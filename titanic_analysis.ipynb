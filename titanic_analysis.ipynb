{
 "cells": [
  {
   "cell_type": "markdown",
   "metadata": {},
   "source": [
    "# Exploring the Titanic Dataset"
   ]
  },
  {
   "cell_type": "markdown",
   "metadata": {},
   "source": [
    "In this analysis, we'll explore the [Titanic dataset](https://www.kaggle.com/c/titanic) from Kaggle. This dataset contains information on the passengers that boarded the Titanic and whether they survived or not. Our goal is to develop a predictive model that can predict passenger survival for the test data on the site. We'll begin by conducting some exploratory analysis to gain a better understanding of the data, perform some imputation and feature engineering and choose a tweak a model.\n",
    "\n",
    "This analysis will be self contained, so you don't have to look up the Kaggle page before reading. Additionally, I attempt to explain my analysis in an intuitive sense to simplify the exploration and shit."
   ]
  },
  {
   "cell_type": "markdown",
   "metadata": {},
   "source": [
    "## Setting up"
   ]
  },
  {
   "cell_type": "markdown",
   "metadata": {},
   "source": [
    "We'll be using NumPy, Matplotlib and Pandas to conduct our analysis:"
   ]
  },
  {
   "cell_type": "code",
   "execution_count": 28,
   "metadata": {
    "collapsed": false
   },
   "outputs": [],
   "source": [
    "import numpy as np\n",
    "import matplotlib.pyplot as plt\n",
    "import pandas as pd\n",
    "\n",
    "%matplotlib inline\n",
    "plt.style.use('ggplot')"
   ]
  },
  {
   "cell_type": "markdown",
   "metadata": {},
   "source": [
    "Reading the dataset into a Pandas DataFrame:"
   ]
  },
  {
   "cell_type": "code",
   "execution_count": 10,
   "metadata": {
    "collapsed": true
   },
   "outputs": [],
   "source": [
    "df = pd.read_csv(r'C:\\Users\\Faisal\\Documents\\Stuff - Projects\\Kaggle - Titanic\\csv\\train.csv', header=0)"
   ]
  },
  {
   "cell_type": "markdown",
   "metadata": {},
   "source": [
    "## What are we working with?"
   ]
  },
  {
   "cell_type": "markdown",
   "metadata": {},
   "source": [
    "Let's start by taking a look at the attributes:"
   ]
  },
  {
   "cell_type": "code",
   "execution_count": 11,
   "metadata": {
    "collapsed": false
   },
   "outputs": [
    {
     "name": "stdout",
     "output_type": "stream",
     "text": [
      "<class 'pandas.core.frame.DataFrame'>\n",
      "RangeIndex: 891 entries, 0 to 890\n",
      "Data columns (total 12 columns):\n",
      "PassengerId    891 non-null int64\n",
      "Survived       891 non-null int64\n",
      "Pclass         891 non-null int64\n",
      "Name           891 non-null object\n",
      "Sex            891 non-null object\n",
      "Age            714 non-null float64\n",
      "SibSp          891 non-null int64\n",
      "Parch          891 non-null int64\n",
      "Ticket         891 non-null object\n",
      "Fare           891 non-null float64\n",
      "Cabin          204 non-null object\n",
      "Embarked       889 non-null object\n",
      "dtypes: float64(2), int64(5), object(5)\n",
      "memory usage: 83.6+ KB\n"
     ]
    }
   ],
   "source": [
    "df.info()"
   ]
  },
  {
   "cell_type": "markdown",
   "metadata": {},
   "source": [
    "The Kaggle page provides a description:\n",
    "\n",
    ">**Survived:** Survival (0 = No; 1 = Yes)<br>\n",
    ">**PClass:** Passenger Class (1 = 1st; 2 = 2nd; 3 = 3rd)<br>\n",
    ">**Name:** Name<br>\n",
    ">**Sex:** Sex<br>\n",
    ">**Age:** Age<br>\n",
    ">**SibSp:** Number of Siblings/Spouses Aboard<br>\n",
    ">**Parch:** Number of Parents/Children Aboard<br>\n",
    ">**Ticket:** Ticket Number<br>\n",
    ">**Fare:** Passenger Fare<br>\n",
    ">**Cabin:** Cabin<br>\n",
    ">**Embarked:** Port of Embarkation (C = Cherbourg; Q = Queenstown; S = Southampton)\n",
    "\n",
    "We know we're working with 891 observations, although some attributes have missing values. We'll take care of this through imputation later.\n",
    "\n",
    "In order to start feature engineering, we need to understand the patterns in the data. One of the well known facts about the Titanic is that women were prioritized for rescuing over men:"
   ]
  },
  {
   "cell_type": "code",
   "execution_count": 29,
   "metadata": {
    "collapsed": false
   },
   "outputs": [
    {
     "data": {
      "image/png": "[encoded data removed]",
      "text/plain": [
       "<matplotlib.figure.Figure at 0x20a1cb25d68>"
      ]
     },
     "metadata": {},
     "output_type": "display_data"
    }
   ],
   "source": [
    "sex = df['Survived'].map({0:'Died', 1:'Survived'}).groupby(df['Sex']).value_counts().unstack()\n",
    "sex.plot(kind='bar', rot=0, stacked=True, title='Survival Count by Sex')\n",
    "plt.show()"
   ]
  },
  {
   "cell_type": "markdown",
   "metadata": {},
   "source": [
    "**81.1%** of all males died, compared to only **25.8%** of females. This is a good attribute to keep in mind when selecting features."
   ]
  }
 ],
 "metadata": {
  "kernelspec": {
   "display_name": "Python 3",
   "language": "python",
   "name": "python3"
  },
  "language_info": {
   "codemirror_mode": {
    "name": "ipython",
    "version": 3
   },
   "file_extension": ".py",
   "mimetype": "text/x-python",
   "name": "python",
   "nbconvert_exporter": "python",
   "pygments_lexer": "ipython3",
   "version": "3.5.1"
  }
 },
 "nbformat": 4,
 "nbformat_minor": 0
}
